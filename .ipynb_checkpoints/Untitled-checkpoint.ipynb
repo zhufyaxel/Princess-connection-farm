{
 "cells": [
  {
   "cell_type": "code",
   "execution_count": 1,
   "metadata": {},
   "outputs": [],
   "source": [
    "# coding=utf-8\n",
    "import uiautomator2 as u2\n",
    "import time\n",
    "from utils import *\n",
    "from cv import *\n",
    "from Automator import *\n",
    "# import matplotlib.pylab as plt\n",
    "import os\n",
    "import subprocess\n",
    "import threading\n",
    "import re"
   ]
  },
  {
   "cell_type": "code",
   "execution_count": 2,
   "metadata": {},
   "outputs": [],
   "source": [
    "def connect():  # 连接adb与uiautomator\n",
    "    try:\n",
    "        os.system('cd adb & adb connect 127.0.0.1:5554')  # 雷电模拟器\n",
    "        # os.system('cd adb & adb connect 127.0.0.1:7555') #mumu模拟器\n",
    "        os.system('python -m uiautomator2 init')\n",
    "    except:\n",
    "        print('连接失败')\n",
    "\n",
    "    result = os.popen('cd adb & adb devices')  # 返回adb devices列表\n",
    "    res = result.read()\n",
    "    lines = res.splitlines()[0:]\n",
    "    while lines[0] != 'List of devices attached ':\n",
    "        del lines[0]\n",
    "    del lines[0]  # 删除表头\n",
    "    input(\"\")\n",
    "    device_dic = {}  # 存储设备状态\n",
    "    for i in range(0, len(lines) - 1):\n",
    "        lines[i], device_dic[lines[i]] = lines[i].split('\\t')[0:]\n",
    "    lines = lines[0:-1]\n",
    "    for i in range(len(lines)):\n",
    "        if device_dic[lines[i]] != 'device':\n",
    "            del lines[i]\n",
    "    print(lines)\n",
    "    emulatornum = len(lines)\n",
    "    print(lines, emulatornum)\n",
    "    input(\"连接完成，暂停\")\n",
    "    return lines, emulatornum"
   ]
  },
  {
   "cell_type": "code",
   "execution_count": 3,
   "metadata": {},
   "outputs": [],
   "source": [
    "def read():  # 读取账号\n",
    "    account_dic = {}\n",
    "    fun_dic = {}\n",
    "    fun_list = []\n",
    "    pattern = re.compile('\\\\s*(.*?)[\\\\s-]+([^\\\\s-]+)[\\\\s-]*(.*)')\n",
    "    with open('zhanghao.txt', 'r') as f:  # 注意！请把账号密码写在zhanghao.txt内\n",
    "        for line in f:\n",
    "            result = pattern.findall(line)\n",
    "            if len(result) != 0:\n",
    "                account, password, fun = result[0]\n",
    "            else:\n",
    "                continue\n",
    "            account_dic[account] = password\n",
    "            fun_dic[account] = fun\n",
    "            fun_list.append(fun_dic[account])\n",
    "    account_list = list(account_dic.keys())\n",
    "    accountnum = len(account_list)\n",
    "    return account_list, account_dic, accountnum, fun_list, fun_dic"
   ]
  },
  {
   "cell_type": "code",
   "execution_count": 4,
   "metadata": {},
   "outputs": [],
   "source": [
    "def shuatu_auth(a, account):  # 刷图总控制\n",
    "    shuatu_dic = {\n",
    "        '08': 'a.shuatu8()',\n",
    "        '10': 'a.shuatu10()',\n",
    "        '11': 'a.shuatu11()'\n",
    "    }\n",
    "    _, _, _, fun_list, fun_dic = read()\n",
    "    if fun_dic[account] == '[]':\n",
    "        eval(shuatu_dic['10'])\n",
    "    else:\n",
    "        eval(shuatu_dic[fun_dic[account][0:2]])"
   ]
  },
  {
   "cell_type": "code",
   "execution_count": 5,
   "metadata": {},
   "outputs": [],
   "source": [
    "def runmain(address, account, password):\n",
    "    # 主功能体函数\n",
    "    # 请在本函数中自定义需要的功能\n",
    "\n",
    "    a = Automator(address)\n",
    "    a.start()\n",
    "    print('>>>>>>>即将登陆的账号为：', account, '密码：', password, '<<<<<<<', '\\r\\n')\n",
    "    a.login_auth(account, password)  # 注意！请把账号密码写在zhanghao.txt内\n",
    "    #a.init_home()  # 初始化，确保进入首页\n",
    "    a.init_home_with_running()\n",
    "    a.sw_init()  # 初始化刷图\n",
    "    \n",
    "    a.gonghuizhijia()  # 家园一键领取\n",
    "    #a.goumaimana(0)  # 购买mana 1次\n",
    "    #a.mianfeiniudan()  # 免费扭蛋\n",
    "    #a.mianfeishilian()  # 免费十连\n",
    "    a.shouqu()  # 收取所有礼物\n",
    "    #a.dianzan(1)  # 公会点赞，sortflag=1表示按战力排序\n",
    "    a.dixiacheng()  # 地下城\n",
    "    a.goumaitili(2)  # 购买2次体力\n",
    "    #a.shouqurenwu()  # 收取任务\n",
    "    shuatu_auth(a, account)  # 刷图控制中心\n",
    "    #a.hanghui()  # 行会捐赠\n",
    "    #a.goumaitili(times=3)  # 购买times次体力\n",
    "    #a.shuajingyan(map=3)  # 刷1-1经验,map为主图\n",
    "    a.shouqurenwu()  # 二次收取任务\n",
    "\n",
    "    a.change_acc()  # 退出当前账号，切换下一个"
   ]
  },
  {
   "cell_type": "code",
   "execution_count": 7,
   "metadata": {},
   "outputs": [
    {
     "name": "stdout",
     "output_type": "stream",
     "text": [
      "TestingShouldStarted\n",
      "pause\n",
      "\n",
      "\n",
      "['emulator-5554']\n",
      "['emulator-5554'] 1\n"
     ]
    },
    {
     "ename": "KeyboardInterrupt",
     "evalue": "Interrupted by user",
     "output_type": "error",
     "traceback": [
      "\u001b[1;31m---------------------------------------------------------------------------\u001b[0m",
      "\u001b[1;31mKeyboardInterrupt\u001b[0m                         Traceback (most recent call last)",
      "\u001b[1;32m<ipython-input-7-d30420d037a2>\u001b[0m in \u001b[0;36m<module>\u001b[1;34m\u001b[0m\n\u001b[0;32m      6\u001b[0m     \u001b[0mprint\u001b[0m\u001b[1;33m(\u001b[0m\u001b[0mtempMessage\u001b[0m\u001b[1;33m)\u001b[0m\u001b[1;33m\u001b[0m\u001b[1;33m\u001b[0m\u001b[0m\n\u001b[0;32m      7\u001b[0m     \u001b[1;31m# 连接adb与uiautomator\u001b[0m\u001b[1;33m\u001b[0m\u001b[1;33m\u001b[0m\u001b[1;33m\u001b[0m\u001b[0m\n\u001b[1;32m----> 8\u001b[1;33m     \u001b[0mlines\u001b[0m\u001b[1;33m,\u001b[0m \u001b[0memulatornum\u001b[0m \u001b[1;33m=\u001b[0m \u001b[0mconnect\u001b[0m\u001b[1;33m(\u001b[0m\u001b[1;33m)\u001b[0m\u001b[1;33m\u001b[0m\u001b[1;33m\u001b[0m\u001b[0m\n\u001b[0m\u001b[0;32m      9\u001b[0m     \u001b[1;31m# 读取账号\u001b[0m\u001b[1;33m\u001b[0m\u001b[1;33m\u001b[0m\u001b[1;33m\u001b[0m\u001b[0m\n\u001b[0;32m     10\u001b[0m     \u001b[0maccount_list\u001b[0m\u001b[1;33m,\u001b[0m \u001b[0maccount_dic\u001b[0m\u001b[1;33m,\u001b[0m \u001b[0maccountnum\u001b[0m\u001b[1;33m,\u001b[0m \u001b[0m_\u001b[0m\u001b[1;33m,\u001b[0m \u001b[0m_\u001b[0m \u001b[1;33m=\u001b[0m \u001b[0mread\u001b[0m\u001b[1;33m(\u001b[0m\u001b[1;33m)\u001b[0m\u001b[1;33m\u001b[0m\u001b[1;33m\u001b[0m\u001b[0m\n",
      "\u001b[1;32m<ipython-input-2-8724ce67c3fb>\u001b[0m in \u001b[0;36mconnect\u001b[1;34m()\u001b[0m\n\u001b[0;32m     24\u001b[0m     \u001b[0memulatornum\u001b[0m \u001b[1;33m=\u001b[0m \u001b[0mlen\u001b[0m\u001b[1;33m(\u001b[0m\u001b[0mlines\u001b[0m\u001b[1;33m)\u001b[0m\u001b[1;33m\u001b[0m\u001b[1;33m\u001b[0m\u001b[0m\n\u001b[0;32m     25\u001b[0m     \u001b[0mprint\u001b[0m\u001b[1;33m(\u001b[0m\u001b[0mlines\u001b[0m\u001b[1;33m,\u001b[0m \u001b[0memulatornum\u001b[0m\u001b[1;33m)\u001b[0m\u001b[1;33m\u001b[0m\u001b[1;33m\u001b[0m\u001b[0m\n\u001b[1;32m---> 26\u001b[1;33m     \u001b[0minput\u001b[0m\u001b[1;33m(\u001b[0m\u001b[1;34m\"连接完成，暂停\"\u001b[0m\u001b[1;33m)\u001b[0m\u001b[1;33m\u001b[0m\u001b[1;33m\u001b[0m\u001b[0m\n\u001b[0m\u001b[0;32m     27\u001b[0m     \u001b[1;32mreturn\u001b[0m \u001b[0mlines\u001b[0m\u001b[1;33m,\u001b[0m \u001b[0memulatornum\u001b[0m\u001b[1;33m\u001b[0m\u001b[1;33m\u001b[0m\u001b[0m\n",
      "\u001b[1;32mc:\\users\\fyzhu\\appdata\\local\\programs\\python\\python38\\lib\\site-packages\\ipykernel\\kernelbase.py\u001b[0m in \u001b[0;36mraw_input\u001b[1;34m(self, prompt)\u001b[0m\n\u001b[0;32m    858\u001b[0m                 \u001b[1;34m\"raw_input was called, but this frontend does not support input requests.\"\u001b[0m\u001b[1;33m\u001b[0m\u001b[1;33m\u001b[0m\u001b[0m\n\u001b[0;32m    859\u001b[0m             )\n\u001b[1;32m--> 860\u001b[1;33m         return self._input_request(str(prompt),\n\u001b[0m\u001b[0;32m    861\u001b[0m             \u001b[0mself\u001b[0m\u001b[1;33m.\u001b[0m\u001b[0m_parent_ident\u001b[0m\u001b[1;33m,\u001b[0m\u001b[1;33m\u001b[0m\u001b[1;33m\u001b[0m\u001b[0m\n\u001b[0;32m    862\u001b[0m             \u001b[0mself\u001b[0m\u001b[1;33m.\u001b[0m\u001b[0m_parent_header\u001b[0m\u001b[1;33m,\u001b[0m\u001b[1;33m\u001b[0m\u001b[1;33m\u001b[0m\u001b[0m\n",
      "\u001b[1;32mc:\\users\\fyzhu\\appdata\\local\\programs\\python\\python38\\lib\\site-packages\\ipykernel\\kernelbase.py\u001b[0m in \u001b[0;36m_input_request\u001b[1;34m(self, prompt, ident, parent, password)\u001b[0m\n\u001b[0;32m    902\u001b[0m             \u001b[1;32mexcept\u001b[0m \u001b[0mKeyboardInterrupt\u001b[0m\u001b[1;33m:\u001b[0m\u001b[1;33m\u001b[0m\u001b[1;33m\u001b[0m\u001b[0m\n\u001b[0;32m    903\u001b[0m                 \u001b[1;31m# re-raise KeyboardInterrupt, to truncate traceback\u001b[0m\u001b[1;33m\u001b[0m\u001b[1;33m\u001b[0m\u001b[1;33m\u001b[0m\u001b[0m\n\u001b[1;32m--> 904\u001b[1;33m                 \u001b[1;32mraise\u001b[0m \u001b[0mKeyboardInterrupt\u001b[0m\u001b[1;33m(\u001b[0m\u001b[1;34m\"Interrupted by user\"\u001b[0m\u001b[1;33m)\u001b[0m \u001b[1;32mfrom\u001b[0m \u001b[1;32mNone\u001b[0m\u001b[1;33m\u001b[0m\u001b[1;33m\u001b[0m\u001b[0m\n\u001b[0m\u001b[0;32m    905\u001b[0m             \u001b[1;32mexcept\u001b[0m \u001b[0mException\u001b[0m \u001b[1;32mas\u001b[0m \u001b[0me\u001b[0m\u001b[1;33m:\u001b[0m\u001b[1;33m\u001b[0m\u001b[1;33m\u001b[0m\u001b[0m\n\u001b[0;32m    906\u001b[0m                 \u001b[0mself\u001b[0m\u001b[1;33m.\u001b[0m\u001b[0mlog\u001b[0m\u001b[1;33m.\u001b[0m\u001b[0mwarning\u001b[0m\u001b[1;33m(\u001b[0m\u001b[1;34m\"Invalid Message:\"\u001b[0m\u001b[1;33m,\u001b[0m \u001b[0mexc_info\u001b[0m\u001b[1;33m=\u001b[0m\u001b[1;32mTrue\u001b[0m\u001b[1;33m)\u001b[0m\u001b[1;33m\u001b[0m\u001b[1;33m\u001b[0m\u001b[0m\n",
      "\u001b[1;31mKeyboardInterrupt\u001b[0m: Interrupted by user"
     ]
    }
   ],
   "source": [
    "if __name__ == '__main__':\n",
    "    \n",
    "    res = os.popen('F:\\XuanZhi\\LDPlayer\\dnplayer.exe')\n",
    "    print(\"TestingShouldStarted\")\n",
    "    tempMessage = input(\"pause\")\n",
    "    print(tempMessage)\n",
    "    # 连接adb与uiautomator\n",
    "    lines, emulatornum = connect()\n",
    "    # 读取账号\n",
    "    account_list, account_dic, accountnum, _, _ = read()\n",
    "    input(\"还没有开始读取线程\")\n",
    "    \n",
    "    \n",
    "    \n",
    "    # 多线程执行\n",
    "    count = 0  # 完成账号数\n",
    "    thread_list = []\n",
    "    # 完整循环 join()方法确保完成后再进行下一次循环\n",
    "    for i in range(int(accountnum / emulatornum)):  # 完整循环 join()方法确保完成后再进行下一次循环\n",
    "        for j in range(emulatornum):\n",
    "            t = threading.Thread(target=runmain, args=(\n",
    "                lines[j], account_list[i * emulatornum + j], account_dic[account_list[i * emulatornum + j]]))\n",
    "            thread_list.append(t)\n",
    "            count += 1\n",
    "        for t in thread_list:\n",
    "            t.start()\n",
    "        for t in thread_list:\n",
    "            t.join()\n",
    "        thread_list = []\n",
    "    # 剩余账号\n",
    "    i = 0\n",
    "    while count != accountnum:\n",
    "        t = threading.Thread(target=runmain,\n",
    "                             args=(lines[i], account_list[count], account_dic[account_list[count]]))\n",
    "        thread_list.append(t)\n",
    "        i += 1\n",
    "        count += 1\n",
    "    for t in thread_list:\n",
    "        t.start()\n",
    "    for t in thread_list:\n",
    "        t.join()\n",
    "\n",
    "    # 退出adb\n",
    "    os.system('cd adb & adb kill-server')"
   ]
  },
  {
   "cell_type": "code",
   "execution_count": null,
   "metadata": {},
   "outputs": [],
   "source": []
  }
 ],
 "metadata": {
  "kernelspec": {
   "display_name": "Python 3",
   "language": "python",
   "name": "python3"
  },
  "language_info": {
   "codemirror_mode": {
    "name": "ipython",
    "version": 3
   },
   "file_extension": ".py",
   "mimetype": "text/x-python",
   "name": "python",
   "nbconvert_exporter": "python",
   "pygments_lexer": "ipython3",
   "version": "3.8.3"
  }
 },
 "nbformat": 4,
 "nbformat_minor": 4
}
